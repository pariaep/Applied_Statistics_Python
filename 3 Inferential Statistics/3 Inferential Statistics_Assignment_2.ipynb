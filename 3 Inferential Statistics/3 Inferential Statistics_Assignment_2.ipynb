{
 "cells": [
  {
   "cell_type": "markdown",
   "id": "b2015842",
   "metadata": {},
   "source": [
    "\n",
    "# Khipus.ai\n",
    "\n",
    "## Applied Statistics with Python\n",
    "\n",
    "### Inferential Statistics\n",
    "\n",
    "<span>© Copyright Notice 2025, Khipus.ai - All Rights Reserved.</span>\n",
    "\n",
    "# Assignment 2\n",
    "\n"
   ]
  },
  {
   "cell_type": "markdown",
   "id": "467e1301",
   "metadata": {},
   "source": [
    "## Instructions\n",
    "1. Complete each task below by filling in the appropriate code in the provided cells.\n",
    "2. Ensure that your code runs without errors and produces the expected outputs.\n",
    "3. Submit your completed notebook as instructed by your instructor."
   ]
  },
  {
   "cell_type": "code",
   "execution_count": 4,
   "id": "ec140aba",
   "metadata": {},
   "outputs": [],
   "source": [
    "import numpy as np\n",
    "import pandas as pd\n",
    "import seaborn as sns # Seaborn is a Python data visualization library based on matplotlib for making easy and beautiful data visualizations.\n",
    "import matplotlib.pyplot as plt\n",
    "from scipy import stats # This module contains a large number of probability distributions as well as a growing library of statistical functions."
   ]
  },
  {
   "cell_type": "markdown",
   "id": "82372246",
   "metadata": {},
   "source": [
    "\n",
    "## Task 1 Central Limit Theorem (CLT)\n",
    "### Sampling Distribution Generation\n"
   ]
  },
  {
   "cell_type": "markdown",
   "id": "b4a6c332",
   "metadata": {},
   "source": [
    "Objective:\n",
    "\n",
    "The objective of this assignment is to understand the concept of the sampling distribution of the mean. By drawing multiple samples from the population and calculating their means, you will observe how the sample means are distributed, which should approximate a normal distribution according to the Central Limit Theory."
   ]
  },
  {
   "cell_type": "markdown",
   "id": "dddc09c1",
   "metadata": {},
   "source": [
    "1. Load the data from the CSV file (coffee_quality.csv)"
   ]
  },
  {
   "cell_type": "code",
   "execution_count": 11,
   "id": "7116ec56",
   "metadata": {},
   "outputs": [
    {
     "data": {
      "application/vnd.microsoft.datawrangler.viewer.v0+json": {
       "columns": [
        {
         "name": "index",
         "rawType": "int64",
         "type": "integer"
        },
        {
         "name": "country_of_origin",
         "rawType": "object",
         "type": "string"
        },
        {
         "name": "continent_of_origin",
         "rawType": "object",
         "type": "string"
        },
        {
         "name": "farm_name",
         "rawType": "object",
         "type": "string"
        },
        {
         "name": "lot_number",
         "rawType": "object",
         "type": "string"
        },
        {
         "name": "mill",
         "rawType": "object",
         "type": "string"
        },
        {
         "name": "company",
         "rawType": "object",
         "type": "string"
        },
        {
         "name": "altitude",
         "rawType": "object",
         "type": "string"
        },
        {
         "name": "region",
         "rawType": "object",
         "type": "string"
        },
        {
         "name": "producer",
         "rawType": "object",
         "type": "string"
        },
        {
         "name": "in_country_partner",
         "rawType": "object",
         "type": "string"
        },
        {
         "name": "harvest_year",
         "rawType": "object",
         "type": "string"
        },
        {
         "name": "grading_date",
         "rawType": "object",
         "type": "string"
        },
        {
         "name": "owner",
         "rawType": "object",
         "type": "string"
        },
        {
         "name": "variety",
         "rawType": "object",
         "type": "string"
        },
        {
         "name": "processing_method",
         "rawType": "object",
         "type": "string"
        },
        {
         "name": "aroma",
         "rawType": "float64",
         "type": "float"
        },
        {
         "name": "flavor",
         "rawType": "float64",
         "type": "float"
        },
        {
         "name": "aftertaste",
         "rawType": "float64",
         "type": "float"
        },
        {
         "name": "acidity",
         "rawType": "float64",
         "type": "float"
        },
        {
         "name": "body",
         "rawType": "float64",
         "type": "float"
        },
        {
         "name": "balance",
         "rawType": "float64",
         "type": "float"
        },
        {
         "name": "uniformity",
         "rawType": "float64",
         "type": "float"
        },
        {
         "name": "clean_cup",
         "rawType": "int64",
         "type": "integer"
        },
        {
         "name": "sweetness",
         "rawType": "int64",
         "type": "integer"
        },
        {
         "name": "overall",
         "rawType": "float64",
         "type": "float"
        },
        {
         "name": "total_cup_points",
         "rawType": "float64",
         "type": "float"
        },
        {
         "name": "moisture_percentage",
         "rawType": "float64",
         "type": "float"
        },
        {
         "name": "color",
         "rawType": "object",
         "type": "string"
        },
        {
         "name": "expiration",
         "rawType": "object",
         "type": "string"
        },
        {
         "name": "certification_body",
         "rawType": "object",
         "type": "string"
        }
       ],
       "conversionMethod": "pd.DataFrame",
       "ref": "ccaa6f45-6b98-4455-b8e3-35f3ba8fc59f",
       "rows": [
        [
         "0",
         "Colombia",
         "South America",
         "Finca El Paraiso",
         "CQU2022015",
         "Finca El Paraiso",
         "Coffee Quality Union",
         "1700-1930",
         "Piendamo,Cauca",
         "Diego Samuel Bermudez",
         "Japan Coffee Exchange",
         "2021 / 2022",
         "2022-09-21",
         "Coffee Quality Union",
         "Castillo",
         "Double Anaerobic Washed",
         "8.58",
         "8.5",
         "8.42",
         "8.58",
         "8.25",
         "8.42",
         "10.0",
         "10",
         "10",
         "8.58",
         "89.33",
         "11.8",
         "green",
         "September 21st, 2023",
         "Japan Coffee Exchange"
        ],
        [
         "1",
         "Taiwan",
         "Asia",
         "Royal Bean Geisha Estate",
         "The 2022 Pacific Rim Coffee Summit,T037",
         "Royal Bean Geisha Estate",
         "Taiwan Coffee Laboratory",
         "1200",
         "Chiayi",
         "曾福森",
         "Taiwan Coffee Laboratory 台灣咖啡研究室",
         "2021 / 2022",
         "2022-11-15",
         "Taiwan Coffee Laboratory 台灣咖啡研究室",
         "Gesha",
         "Washed / Wet",
         "8.5",
         "8.5",
         "7.92",
         "8.0",
         "7.92",
         "8.25",
         "10.0",
         "10",
         "10",
         "8.5",
         "87.58",
         "10.5",
         "blue-green",
         "November 15th, 2023",
         "Taiwan Coffee Laboratory 台灣咖啡研究室"
        ],
        [
         "2",
         "Laos",
         "Asia",
         "OKLAO coffee farms",
         "The 2022 Pacific Rim Coffee Summit,LA01",
         "oklao coffee processing plant",
         "Taiwan Coffee Laboratory",
         "1300",
         "Laos Borofen Plateau",
         "WU TAO CHI",
         "Taiwan Coffee Laboratory 台灣咖啡研究室",
         "2021 / 2022",
         "2022-11-15",
         "Taiwan Coffee Laboratory 台灣咖啡研究室",
         "Java",
         "Semi Washed",
         "8.33",
         "8.42",
         "8.08",
         "8.17",
         "7.92",
         "8.17",
         "10.0",
         "10",
         "10",
         "8.33",
         "87.42",
         "10.4",
         "yellowish",
         "November 15th, 2023",
         "Taiwan Coffee Laboratory 台灣咖啡研究室"
        ],
        [
         "3",
         "Costa Rica",
         "North America",
         "La Cumbre",
         "CQU2022017",
         "La Montana Tarrazu MIll",
         "Coffee Quality Union",
         "1900",
         "Los Santos,Tarrazu",
         "Santa Maria de Dota",
         "Japan Coffee Exchange",
         "2022",
         "2022-09-21",
         "Coffee Quality Union",
         "Gesha",
         "Washed / Wet",
         "8.08",
         "8.17",
         "8.17",
         "8.25",
         "8.17",
         "8.08",
         "10.0",
         "10",
         "10",
         "8.25",
         "87.17",
         "11.8",
         "green",
         "September 21st, 2023",
         "Japan Coffee Exchange"
        ],
        [
         "4",
         "Colombia",
         "South America",
         "Finca Santuario",
         "CQU2023002",
         "Finca Santuario",
         "Coffee Quality Union",
         "1850-2100",
         "Popayan,Cauca",
         "Camilo Merizalde",
         "Japan Coffee Exchange",
         "2022",
         "2023-03-06",
         "Coffee Quality Union",
         "Red Bourbon",
         "Honey,Mossto",
         "8.33",
         "8.33",
         "8.08",
         "8.25",
         "7.92",
         "7.92",
         "10.0",
         "10",
         "10",
         "8.25",
         "87.08",
         "11.6",
         "yellow-green",
         "March 5th, 2024",
         "Japan Coffee Exchange"
        ]
       ],
       "shape": {
        "columns": 30,
        "rows": 5
       }
      },
      "text/html": [
       "<div>\n",
       "<style scoped>\n",
       "    .dataframe tbody tr th:only-of-type {\n",
       "        vertical-align: middle;\n",
       "    }\n",
       "\n",
       "    .dataframe tbody tr th {\n",
       "        vertical-align: top;\n",
       "    }\n",
       "\n",
       "    .dataframe thead th {\n",
       "        text-align: right;\n",
       "    }\n",
       "</style>\n",
       "<table border=\"1\" class=\"dataframe\">\n",
       "  <thead>\n",
       "    <tr style=\"text-align: right;\">\n",
       "      <th></th>\n",
       "      <th>country_of_origin</th>\n",
       "      <th>continent_of_origin</th>\n",
       "      <th>farm_name</th>\n",
       "      <th>lot_number</th>\n",
       "      <th>mill</th>\n",
       "      <th>company</th>\n",
       "      <th>altitude</th>\n",
       "      <th>region</th>\n",
       "      <th>producer</th>\n",
       "      <th>in_country_partner</th>\n",
       "      <th>...</th>\n",
       "      <th>balance</th>\n",
       "      <th>uniformity</th>\n",
       "      <th>clean_cup</th>\n",
       "      <th>sweetness</th>\n",
       "      <th>overall</th>\n",
       "      <th>total_cup_points</th>\n",
       "      <th>moisture_percentage</th>\n",
       "      <th>color</th>\n",
       "      <th>expiration</th>\n",
       "      <th>certification_body</th>\n",
       "    </tr>\n",
       "  </thead>\n",
       "  <tbody>\n",
       "    <tr>\n",
       "      <th>0</th>\n",
       "      <td>Colombia</td>\n",
       "      <td>South America</td>\n",
       "      <td>Finca El Paraiso</td>\n",
       "      <td>CQU2022015</td>\n",
       "      <td>Finca El Paraiso</td>\n",
       "      <td>Coffee Quality Union</td>\n",
       "      <td>1700-1930</td>\n",
       "      <td>Piendamo,Cauca</td>\n",
       "      <td>Diego Samuel Bermudez</td>\n",
       "      <td>Japan Coffee Exchange</td>\n",
       "      <td>...</td>\n",
       "      <td>8.42</td>\n",
       "      <td>10.0</td>\n",
       "      <td>10</td>\n",
       "      <td>10</td>\n",
       "      <td>8.58</td>\n",
       "      <td>89.33</td>\n",
       "      <td>11.8</td>\n",
       "      <td>green</td>\n",
       "      <td>September 21st, 2023</td>\n",
       "      <td>Japan Coffee Exchange</td>\n",
       "    </tr>\n",
       "    <tr>\n",
       "      <th>1</th>\n",
       "      <td>Taiwan</td>\n",
       "      <td>Asia</td>\n",
       "      <td>Royal Bean Geisha Estate</td>\n",
       "      <td>The 2022 Pacific Rim Coffee Summit,T037</td>\n",
       "      <td>Royal Bean Geisha Estate</td>\n",
       "      <td>Taiwan Coffee Laboratory</td>\n",
       "      <td>1200</td>\n",
       "      <td>Chiayi</td>\n",
       "      <td>曾福森</td>\n",
       "      <td>Taiwan Coffee Laboratory 台灣咖啡研究室</td>\n",
       "      <td>...</td>\n",
       "      <td>8.25</td>\n",
       "      <td>10.0</td>\n",
       "      <td>10</td>\n",
       "      <td>10</td>\n",
       "      <td>8.50</td>\n",
       "      <td>87.58</td>\n",
       "      <td>10.5</td>\n",
       "      <td>blue-green</td>\n",
       "      <td>November 15th, 2023</td>\n",
       "      <td>Taiwan Coffee Laboratory 台灣咖啡研究室</td>\n",
       "    </tr>\n",
       "    <tr>\n",
       "      <th>2</th>\n",
       "      <td>Laos</td>\n",
       "      <td>Asia</td>\n",
       "      <td>OKLAO coffee farms</td>\n",
       "      <td>The 2022 Pacific Rim Coffee Summit,LA01</td>\n",
       "      <td>oklao coffee processing plant</td>\n",
       "      <td>Taiwan Coffee Laboratory</td>\n",
       "      <td>1300</td>\n",
       "      <td>Laos Borofen Plateau</td>\n",
       "      <td>WU TAO CHI</td>\n",
       "      <td>Taiwan Coffee Laboratory 台灣咖啡研究室</td>\n",
       "      <td>...</td>\n",
       "      <td>8.17</td>\n",
       "      <td>10.0</td>\n",
       "      <td>10</td>\n",
       "      <td>10</td>\n",
       "      <td>8.33</td>\n",
       "      <td>87.42</td>\n",
       "      <td>10.4</td>\n",
       "      <td>yellowish</td>\n",
       "      <td>November 15th, 2023</td>\n",
       "      <td>Taiwan Coffee Laboratory 台灣咖啡研究室</td>\n",
       "    </tr>\n",
       "    <tr>\n",
       "      <th>3</th>\n",
       "      <td>Costa Rica</td>\n",
       "      <td>North America</td>\n",
       "      <td>La Cumbre</td>\n",
       "      <td>CQU2022017</td>\n",
       "      <td>La Montana Tarrazu MIll</td>\n",
       "      <td>Coffee Quality Union</td>\n",
       "      <td>1900</td>\n",
       "      <td>Los Santos,Tarrazu</td>\n",
       "      <td>Santa Maria de Dota</td>\n",
       "      <td>Japan Coffee Exchange</td>\n",
       "      <td>...</td>\n",
       "      <td>8.08</td>\n",
       "      <td>10.0</td>\n",
       "      <td>10</td>\n",
       "      <td>10</td>\n",
       "      <td>8.25</td>\n",
       "      <td>87.17</td>\n",
       "      <td>11.8</td>\n",
       "      <td>green</td>\n",
       "      <td>September 21st, 2023</td>\n",
       "      <td>Japan Coffee Exchange</td>\n",
       "    </tr>\n",
       "    <tr>\n",
       "      <th>4</th>\n",
       "      <td>Colombia</td>\n",
       "      <td>South America</td>\n",
       "      <td>Finca Santuario</td>\n",
       "      <td>CQU2023002</td>\n",
       "      <td>Finca Santuario</td>\n",
       "      <td>Coffee Quality Union</td>\n",
       "      <td>1850-2100</td>\n",
       "      <td>Popayan,Cauca</td>\n",
       "      <td>Camilo Merizalde</td>\n",
       "      <td>Japan Coffee Exchange</td>\n",
       "      <td>...</td>\n",
       "      <td>7.92</td>\n",
       "      <td>10.0</td>\n",
       "      <td>10</td>\n",
       "      <td>10</td>\n",
       "      <td>8.25</td>\n",
       "      <td>87.08</td>\n",
       "      <td>11.6</td>\n",
       "      <td>yellow-green</td>\n",
       "      <td>March 5th, 2024</td>\n",
       "      <td>Japan Coffee Exchange</td>\n",
       "    </tr>\n",
       "  </tbody>\n",
       "</table>\n",
       "<p>5 rows × 30 columns</p>\n",
       "</div>"
      ],
      "text/plain": [
       "  country_of_origin continent_of_origin                 farm_name  \\\n",
       "0          Colombia       South America          Finca El Paraiso   \n",
       "1            Taiwan                Asia  Royal Bean Geisha Estate   \n",
       "2              Laos                Asia        OKLAO coffee farms   \n",
       "3        Costa Rica       North America                 La Cumbre   \n",
       "4          Colombia       South America           Finca Santuario   \n",
       "\n",
       "                                lot_number                           mill  \\\n",
       "0                               CQU2022015               Finca El Paraiso   \n",
       "1  The 2022 Pacific Rim Coffee Summit,T037       Royal Bean Geisha Estate   \n",
       "2  The 2022 Pacific Rim Coffee Summit,LA01  oklao coffee processing plant   \n",
       "3                               CQU2022017        La Montana Tarrazu MIll   \n",
       "4                               CQU2023002                Finca Santuario   \n",
       "\n",
       "                    company   altitude                region  \\\n",
       "0      Coffee Quality Union  1700-1930        Piendamo,Cauca   \n",
       "1  Taiwan Coffee Laboratory       1200                Chiayi   \n",
       "2  Taiwan Coffee Laboratory       1300  Laos Borofen Plateau   \n",
       "3      Coffee Quality Union       1900    Los Santos,Tarrazu   \n",
       "4      Coffee Quality Union  1850-2100         Popayan,Cauca   \n",
       "\n",
       "                producer                in_country_partner  ... balance  \\\n",
       "0  Diego Samuel Bermudez             Japan Coffee Exchange  ...    8.42   \n",
       "1                    曾福森  Taiwan Coffee Laboratory 台灣咖啡研究室  ...    8.25   \n",
       "2             WU TAO CHI  Taiwan Coffee Laboratory 台灣咖啡研究室  ...    8.17   \n",
       "3    Santa Maria de Dota             Japan Coffee Exchange  ...    8.08   \n",
       "4       Camilo Merizalde             Japan Coffee Exchange  ...    7.92   \n",
       "\n",
       "  uniformity clean_cup sweetness overall  total_cup_points  \\\n",
       "0       10.0        10        10    8.58             89.33   \n",
       "1       10.0        10        10    8.50             87.58   \n",
       "2       10.0        10        10    8.33             87.42   \n",
       "3       10.0        10        10    8.25             87.17   \n",
       "4       10.0        10        10    8.25             87.08   \n",
       "\n",
       "   moisture_percentage         color            expiration  \\\n",
       "0                 11.8         green  September 21st, 2023   \n",
       "1                 10.5    blue-green   November 15th, 2023   \n",
       "2                 10.4     yellowish   November 15th, 2023   \n",
       "3                 11.8         green  September 21st, 2023   \n",
       "4                 11.6  yellow-green       March 5th, 2024   \n",
       "\n",
       "                 certification_body  \n",
       "0             Japan Coffee Exchange  \n",
       "1  Taiwan Coffee Laboratory 台灣咖啡研究室  \n",
       "2  Taiwan Coffee Laboratory 台灣咖啡研究室  \n",
       "3             Japan Coffee Exchange  \n",
       "4             Japan Coffee Exchange  \n",
       "\n",
       "[5 rows x 30 columns]"
      ]
     },
     "execution_count": 11,
     "metadata": {},
     "output_type": "execute_result"
    }
   ],
   "source": [
    "# Load the data from the CSV file\n",
    "\n",
    "# Display the first few rows of the data",
    "\n",
   ]
  },
  {
   "cell_type": "markdown",
   "id": "788645f2",
   "metadata": {},
   "source": [
    "About the dataset:\n",
    "\n",
    "This dataset contains 207 coffee quality records with 30 attributes, including origin details (country, farm, altitude), sensory attributes (aroma, flavor, acidity), and quality scores (total cup points). It includes both categorical (e.g., processing method, certification body) and numerical data (e.g., moisture percentage, cup scores). The dataset is structured for evaluating coffee quality based on standardized grading criteria."
   ]
  },
  {
   "cell_type": "markdown",
   "id": "a3d0b0d4",
   "metadata": {},
   "source": [
    "Note: The `aroma` column in the `coffee_quality` dataset represents the aroma quality score of the coffee samples. This score typically evaluates the fragrance and smell of the coffee, which is an important attribute in determining the overall quality of the coffee. The scores are usually given by coffee experts or through sensory evaluation processes and can range on a scale (from 0 to 10) where higher scores indicate better aroma quality."
   ]
  },
  {
   "cell_type": "code",
   "execution_count": 6,
   "id": "c585933f",
   "metadata": {},
   "outputs": [
    {
     "data": {
      "text/plain": [
       "0      8.58\n",
       "1      8.50\n",
       "2      8.33\n",
       "3      8.08\n",
       "4      8.33\n",
       "       ... \n",
       "202    7.17\n",
       "203    7.33\n",
       "204    7.25\n",
       "205    6.50\n",
       "206    7.25\n",
       "Name: aroma, Length: 207, dtype: float64"
      ]
     },
     "execution_count": 6,
     "metadata": {},
     "output_type": "execute_result"
    }
   ],
   "source": [
    "coffee_quality['aroma']"
   ]
  },
  {
   "cell_type": "markdown",
   "id": "5b62fbb3",
   "metadata": {},
   "source": [
    "2.Extract Population Data:\n",
    "\n",
    "Extract the aroma column from the coffee_quality DataFrame.\n",
    "Drop any missing values and convert the data to a NumPy array called population.\n",
    "\n",
    "3.Set Parameters:\n",
    "\n",
    "Define the sample size as 50.\n",
    "Define the number of samples to draw as 1000.\n",
    "\n",
    "4.Set Random Seed:\n",
    "\n",
    "Set the random seed to 2025 using np.random.seed(2025) to ensure reproducibility of the random sampling.\n",
    "\n",
    "5.Simulate Sampling Distribution:\n",
    "\n",
    "Initialize an empty list sample_means to store the means of the samples.\n",
    "Loop 1000 times (as specified by num_samples):\n",
    "In each iteration, draw a random sample of size 50 from the population using np.random.choice.\n",
    "Calculate the mean of the sample and append it to the sample_means list.\n",
    "\n",
    "6.Plot the Sampling Distribution:\n",
    "\n",
    "Create a histogram of the sample_means list with 30 bins.\n",
    "\n",
    "Set the figure size to 10x5 inches.\n",
    "\n",
    "Add a title to the plot: \"Sampling Distribution of the Mean (Sample Size = 50)\".\n",
    "\n",
    "Label the x-axis as \"Sample Mean\" and the y-axis as \"Frequency\".\n",
    "\n",
    "Rotate the x-axis tick labels by 45 degrees for better readability.\n",
    "\n",
    "Display the plot using plt.show()."
   ]
  },
  {
   "cell_type": "code",
   "execution_count": 10,
   "id": "3ef432e4",
   "metadata": {},
   "outputs": [
    {
     "data": {
      "image/png": "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",
      "text/plain": [
       "<Figure size 1000x500 with 1 Axes>"
      ]
     },
     "metadata": {},
     "output_type": "display_data"
    }
   ],
   "source": [
    "\n",
    "# Task 2\n",
    "\n",
    "# <your code goes here>\n",
    "\n"
   ]
  },
  {
   "cell_type": "markdown",
   "id": "d29e17d9",
   "metadata": {},
   "source": [
    "\n",
    "## Task 2: Hypothesis Testing\n",
    "\n",
    "Hypothesis testing is a fundamental concept in statistics that allows researchers to make conclusions based on sample data. It begins with formulating a null hypothesis, which states that there is no effect or difference. The alternative hypothesis suggests otherwise. By determining a significance level, researchers can assess whether to reject the null hypothesis based on the evidence provided by the sample data.\n",
    "\n",
    "Null Hypothesis (H₀): The population mean flavor score is equal to 7.8.\n",
    "\n",
    "Alternative Hypothesis (H₁): The population mean flavor score is less than 7.8."
   ]
  },
  {
   "cell_type": "markdown",
   "id": "cda88f4d",
   "metadata": {},
   "source": [
    "Note: The flavor column in the coffee_quality dataset represents the flavor quality score of the coffee samples. This score evaluates the taste characteristics of the coffee, including its richness, balance, and complexity. The scores are typically given by coffee experts or through sensory evaluation processes and can range on a scale (from 0 to 10), where higher scores indicate better flavor quality."
   ]
  },
  {
   "cell_type": "code",
   "execution_count": 8,
   "id": "204a28b5",
   "metadata": {},
   "outputs": [
    {
     "data": {
      "text/plain": [
       "0      8.50\n",
       "1      8.50\n",
       "2      8.42\n",
       "3      8.17\n",
       "4      8.33\n",
       "       ... \n",
       "202    7.17\n",
       "203    7.08\n",
       "204    7.17\n",
       "205    6.75\n",
       "206    7.08\n",
       "Name: flavor, Length: 207, dtype: float64"
      ]
     },
     "execution_count": 8,
     "metadata": {},
     "output_type": "execute_result"
    }
   ],
   "source": [
    "coffee_quality['flavor']"
   ]
  },
  {
   "cell_type": "markdown",
   "id": "368bbbda",
   "metadata": {},
   "source": [
    "1.Define Hypothesized Mean:\n",
    "\n",
    "Set the hypothesized population mean for the flavor column to 7.8 and store it in the variable flavor_mean.\n",
    "\n",
    "2.Perform One-Sample t-Test:\n",
    "\n",
    "Use the ttest_1samp function from the scipy.stats module to perform a one-sample t-test.\n",
    "\n",
    "The test will compare the sample mean of the flavor column in the coffee_quality DataFrame to the hypothesized mean (7.8).\n",
    "\n",
    "Drop any missing values from the flavor column using .dropna().\n",
    "\n",
    "Set the alternative parameter to 'less' to test the alternative hypothesis that the population mean is less than the hypothesized mean.\n",
    "\n",
    "3.Store Test Results:\n",
    "\n",
    "Store the t-statistic and p-value returned by the ttest_1samp function in the variables t_stat and p_value, respectively.\n",
    "\n",
    "4.Print Results:\n",
    "\n",
    "Print the t-statistic and p-value using formatted strings.\n",
    "\n",
    "Expected output:\n",
    "\n",
    "T-statistic: -2.8437004395767462\n",
    "\n",
    "P-value: 0.0024543417348696964"
   ]
  },
  {
   "cell_type": "code",
   "execution_count": null,
   "id": "8a6d4d9c",
   "metadata": {},
   "outputs": [
    {
     "name": "stdout",
     "output_type": "stream",
     "text": [
      "T-statistic: -2.8437004395767462\n",
      "P-value: 0.0024543417348696964\n"
     ]
    }
   ],
   "source": [
    "\n",
    "#<your code goes here>\n",
    "\n"
   ]
  },
  {
   "cell_type": "markdown",
   "id": "51a8d25e",
   "metadata": {},
   "source": [
    "Analysis:\n",
    "The T-statistic being negative suggests that the sample mean is less than the hypothesized mean.\n",
    "\n",
    "The P-value (0.0025) is much smaller than the common significance level (e.g., 0.05), indicating that the observed difference is highly unlikely to have occurred by chance.\n",
    "\n",
    "Conclusion:\n",
    "\n",
    "Since the p-value is significantly less than 0.05, we reject the null hypothesis. This suggests strong evidence that the population mean flavor score is less than 7.8."
   ]
  }
 ],
 "metadata": {
  "kernelspec": {
   "display_name": "base",
   "language": "python",
   "name": "python3"
  },
  "language_info": {
   "codemirror_mode": {
    "name": "ipython",
    "version": 3
   },
   "file_extension": ".py",
   "mimetype": "text/x-python",
   "name": "python",
   "nbconvert_exporter": "python",
   "pygments_lexer": "ipython3",
   "version": "3.11.7"
  }
 },
 "nbformat": 4,
 "nbformat_minor": 5
}
